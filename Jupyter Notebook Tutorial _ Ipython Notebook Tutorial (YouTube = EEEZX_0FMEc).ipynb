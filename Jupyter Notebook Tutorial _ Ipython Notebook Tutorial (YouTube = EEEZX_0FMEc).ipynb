{
 "cells": [
  {
   "cell_type": "markdown",
   "metadata": {},
   "source": [
    "# Jupyter Notebook Ipython Notebook Tutorial\n",
    "#### YouTube ID : EEEZX_0FMEc\n",
    "這個的確就是我想像中的 **jeforth** 工作環境，人家已經做好很久了現在才知道。"
   ]
  },
  {
   "cell_type": "code",
   "execution_count": 19,
   "metadata": {},
   "outputs": [
    {
     "data": {
      "text/html": [
       "<div>\n",
       "<style>\n",
       "    .dataframe thead tr:only-child th {\n",
       "        text-align: right;\n",
       "    }\n",
       "\n",
       "    .dataframe thead th {\n",
       "        text-align: left;\n",
       "    }\n",
       "\n",
       "    .dataframe tbody tr th {\n",
       "        vertical-align: top;\n",
       "    }\n",
       "</style>\n",
       "<table border=\"1\" class=\"dataframe\">\n",
       "  <thead>\n",
       "    <tr style=\"text-align: right;\">\n",
       "      <th></th>\n",
       "      <th>Open</th>\n",
       "      <th>High</th>\n",
       "      <th>Low</th>\n",
       "      <th>Close</th>\n",
       "      <th>Adj Close</th>\n",
       "      <th>Volume</th>\n",
       "    </tr>\n",
       "    <tr>\n",
       "      <th>Date</th>\n",
       "      <th></th>\n",
       "      <th></th>\n",
       "      <th></th>\n",
       "      <th></th>\n",
       "      <th></th>\n",
       "      <th></th>\n",
       "    </tr>\n",
       "  </thead>\n",
       "  <tbody>\n",
       "    <tr>\n",
       "      <th>2015-12-31</th>\n",
       "      <td>107.010002</td>\n",
       "      <td>107.029999</td>\n",
       "      <td>104.820000</td>\n",
       "      <td>105.260002</td>\n",
       "      <td>101.339394</td>\n",
       "      <td>40635300</td>\n",
       "    </tr>\n",
       "    <tr>\n",
       "      <th>2016-01-04</th>\n",
       "      <td>102.610001</td>\n",
       "      <td>105.370003</td>\n",
       "      <td>102.000000</td>\n",
       "      <td>105.349998</td>\n",
       "      <td>101.426033</td>\n",
       "      <td>67649400</td>\n",
       "    </tr>\n",
       "    <tr>\n",
       "      <th>2016-01-05</th>\n",
       "      <td>105.750000</td>\n",
       "      <td>105.849998</td>\n",
       "      <td>102.410004</td>\n",
       "      <td>102.709999</td>\n",
       "      <td>98.884369</td>\n",
       "      <td>55791000</td>\n",
       "    </tr>\n",
       "    <tr>\n",
       "      <th>2016-01-06</th>\n",
       "      <td>100.559998</td>\n",
       "      <td>102.370003</td>\n",
       "      <td>99.870003</td>\n",
       "      <td>100.699997</td>\n",
       "      <td>96.949242</td>\n",
       "      <td>68457400</td>\n",
       "    </tr>\n",
       "    <tr>\n",
       "      <th>2016-01-07</th>\n",
       "      <td>98.680000</td>\n",
       "      <td>100.129997</td>\n",
       "      <td>96.430000</td>\n",
       "      <td>96.449997</td>\n",
       "      <td>92.857529</td>\n",
       "      <td>81094400</td>\n",
       "    </tr>\n",
       "  </tbody>\n",
       "</table>\n",
       "</div>"
      ],
      "text/plain": [
       "                  Open        High         Low       Close   Adj Close  \\\n",
       "Date                                                                     \n",
       "2015-12-31  107.010002  107.029999  104.820000  105.260002  101.339394   \n",
       "2016-01-04  102.610001  105.370003  102.000000  105.349998  101.426033   \n",
       "2016-01-05  105.750000  105.849998  102.410004  102.709999   98.884369   \n",
       "2016-01-06  100.559998  102.370003   99.870003  100.699997   96.949242   \n",
       "2016-01-07   98.680000  100.129997   96.430000   96.449997   92.857529   \n",
       "\n",
       "              Volume  \n",
       "Date                  \n",
       "2015-12-31  40635300  \n",
       "2016-01-04  67649400  \n",
       "2016-01-05  55791000  \n",
       "2016-01-06  68457400  \n",
       "2016-01-07  81094400  "
      ]
     },
     "execution_count": 19,
     "metadata": {},
     "output_type": "execute_result"
    }
   ],
   "source": [
    "# import pandas.io.data as web <--- obsoleted \n",
    "# 要先 install : pip install pandas_datareader\n",
    "# 第二參數是資料來源，用 'google' 要翻牆，翻了也不行。改用 'yahoo' 就好了。\n",
    "import pandas_datareader.data as web\n",
    "df = web.DataReader('AAPL','yahoo','2016-1-1','2017-1-1')\n",
    "df.head()"
   ]
  },
  {
   "cell_type": "code",
   "execution_count": 20,
   "metadata": {},
   "outputs": [
    {
     "data": {
      "text/plain": [
       "<matplotlib.axes._subplots.AxesSubplot at 0x27643ccfd30>"
      ]
     },
     "execution_count": 20,
     "metadata": {},
     "output_type": "execute_result"
    },
    {
     "data": {
      "image/png": "[encoded data removed]",
      "text/plain": [
       "<matplotlib.figure.Figure at 0x27643ccf358>"
      ]
     },
     "metadata": {},
     "output_type": "display_data"
    }
   ],
   "source": [
    "%matplotlib inline\n",
    "df.plot(y='Close')"
   ]
  },
  {
   "cell_type": "code",
   "execution_count": 24,
   "metadata": {},
   "outputs": [
    {
     "name": "stdout",
     "output_type": "stream",
     "text": [
      "Wall time: 6.4 s\n"
     ]
    }
   ],
   "source": [
    "# 檢查隨後的 statement 花了多少時間. %time? 查看 help \n",
    "%time import tensorflow"
   ]
  },
  {
   "cell_type": "markdown",
   "metadata": {},
   "source": []
  }
 ],
 "metadata": {
  "kernelspec": {
   "display_name": "Python 3",
   "language": "python",
   "name": "python3"
  },
  "language_info": {
   "codemirror_mode": {
    "name": "ipython",
    "version": 3
   },
   "file_extension": ".py",
   "mimetype": "text/x-python",
   "name": "python",
   "nbconvert_exporter": "python",
   "pygments_lexer": "ipython3",
   "version": "3.6.0"
  }
 },
 "nbformat": 4,
 "nbformat_minor": 2
}
