{
 "cells": [
  {
   "cell_type": "code",
   "execution_count": 8,
   "metadata": {},
   "outputs": [
    {
     "data": {
      "text/plain": [
       "True"
      ]
     },
     "execution_count": 8,
     "metadata": {},
     "output_type": "execute_result"
    }
   ],
   "source": [
    "str(\"sdfdsf.JPEG\").lower().endswith((\".jpeg\",'.jpg'))"
   ]
  },
  {
   "cell_type": "code",
   "execution_count": 4,
   "metadata": {},
   "outputs": [
    {
     "data": {
      "text/plain": [
       "'sdfdsf.dsfsf'"
      ]
     },
     "execution_count": 4,
     "metadata": {},
     "output_type": "execute_result"
    }
   ],
   "source": [
    "(\"sdfdsf.Dsfsf\").lower()"
   ]
  },
  {
   "cell_type": "code",
   "execution_count": 17,
   "metadata": {},
   "outputs": [
    {
     "name": "stdout",
     "output_type": "stream",
     "text": [
      "hello world!\n",
      "Ooops! jpeg pictures only please. sdfsf sdlfsjdflsjdf fs dlfsjdfls fsf.jPEgg is not one.\n",
      "\n"
     ]
    }
   ],
   "source": [
    "results = \"hello world!\\n\"\n",
    "def msg():\n",
    "    pass\n",
    "msg.fileName = \"sdfsf sdlfsjdflsjdf fs dlfsjdfls fsf.jPEgg\"\n",
    "if msg.fileName.strip().lower().endswith((\".jpeg\",'.jpg')):\n",
    "    results += 'ok!\\n'\n",
    "else:\n",
    "    results += 'Ooops! jpeg pictures only, please. {} is not one.\\n'.format(msg.fileName)\n",
    "print(results)"
   ]
  },
  {
   "cell_type": "code",
   "execution_count": null,
   "metadata": {},
   "outputs": [],
   "source": []
  }
 ],
 "metadata": {
  "kernelspec": {
   "display_name": "Python 3",
   "language": "python",
   "name": "python3"
  },
  "language_info": {
   "codemirror_mode": {
    "name": "ipython",
    "version": 3
   },
   "file_extension": ".py",
   "mimetype": "text/x-python",
   "name": "python",
   "nbconvert_exporter": "python",
   "pygments_lexer": "ipython3",
   "version": "3.6.0"
  }
 },
 "nbformat": 4,
 "nbformat_minor": 2
}
